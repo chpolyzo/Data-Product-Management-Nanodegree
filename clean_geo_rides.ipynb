{
 "cells": [
  {
   "cell_type": "markdown",
   "metadata": {},
   "source": [
    "Cleaning taxi_rides dataset"
   ]
  },
  {
   "cell_type": "code",
   "execution_count": 1,
   "metadata": {},
   "outputs": [],
   "source": [
    "%matplotlib inline"
   ]
  },
  {
   "cell_type": "code",
   "execution_count": 2,
   "metadata": {},
   "outputs": [],
   "source": [
    "# load geo modules\n",
    "import geopandas as gpd\n",
    "import contextily as ctx\n",
    "import geoplot"
   ]
  },
  {
   "cell_type": "code",
   "execution_count": 3,
   "metadata": {},
   "outputs": [],
   "source": [
    "# load necessary modules\n",
    "import numpy as np\n",
    "import pandas as pd\n",
    "import matplotlib.pyplot as plt\n",
    "import seaborn as sns"
   ]
  },
  {
   "cell_type": "code",
   "execution_count": 4,
   "metadata": {},
   "outputs": [],
   "source": [
    "# load New York city complete geometry to have as a reference\n",
    "NYC = gpd.read_file(r\"C:\\Users\\chpol\\Documents\\PM\\Data\\GIS\\NYC\\nyc.shp\") "
   ]
  },
  {
   "cell_type": "code",
   "execution_count": 5,
   "metadata": {},
   "outputs": [
    {
     "data": {
      "text/html": [
       "<div>\n",
       "<style scoped>\n",
       "    .dataframe tbody tr th:only-of-type {\n",
       "        vertical-align: middle;\n",
       "    }\n",
       "\n",
       "    .dataframe tbody tr th {\n",
       "        vertical-align: top;\n",
       "    }\n",
       "\n",
       "    .dataframe thead th {\n",
       "        text-align: right;\n",
       "    }\n",
       "</style>\n",
       "<table border=\"1\" class=\"dataframe\">\n",
       "  <thead>\n",
       "    <tr style=\"text-align: right;\">\n",
       "      <th></th>\n",
       "      <th>minx</th>\n",
       "      <th>miny</th>\n",
       "      <th>maxx</th>\n",
       "      <th>maxy</th>\n",
       "    </tr>\n",
       "  </thead>\n",
       "  <tbody>\n",
       "    <tr>\n",
       "      <th>0</th>\n",
       "      <td>-74.255591</td>\n",
       "      <td>40.496115</td>\n",
       "      <td>-73.700009</td>\n",
       "      <td>40.915533</td>\n",
       "    </tr>\n",
       "  </tbody>\n",
       "</table>\n",
       "</div>"
      ],
      "text/plain": [
       "        minx       miny       maxx       maxy\n",
       "0 -74.255591  40.496115 -73.700009  40.915533"
      ]
     },
     "execution_count": 5,
     "metadata": {},
     "output_type": "execute_result"
    }
   ],
   "source": [
    "#check New York City Boundaries\n",
    "NYC.bounds"
   ]
  },
  {
   "cell_type": "code",
   "execution_count": 6,
   "metadata": {},
   "outputs": [],
   "source": [
    "# load clean taxi rides we have previously cleand from othe points of view\n",
    "rides = pd.read_csv('clean_rides.csv')"
   ]
  },
  {
   "cell_type": "code",
   "execution_count": 7,
   "metadata": {},
   "outputs": [
    {
     "name": "stdout",
     "output_type": "stream",
     "text": [
      "<class 'pandas.core.frame.DataFrame'>\n",
      "RangeIndex: 1041861 entries, 0 to 1041860\n",
      "Data columns (total 19 columns):\n",
      " #   Column              Non-Null Count    Dtype  \n",
      "---  ------              --------------    -----  \n",
      " 0   id                  1041861 non-null  object \n",
      " 1   vendor_id           1041861 non-null  int64  \n",
      " 2   pickup_datetime     1041861 non-null  object \n",
      " 3   dropoff_datetime    1041861 non-null  object \n",
      " 4   passenger_count     1041861 non-null  int64  \n",
      " 5   pickup_longitude    1041861 non-null  float64\n",
      " 6   pickup_latitude     1041861 non-null  float64\n",
      " 7   dropoff_longitude   1041861 non-null  float64\n",
      " 8   dropoff_latitude    1041861 non-null  float64\n",
      " 9   store_and_fwd_flag  1041861 non-null  object \n",
      " 10  duration            1041861 non-null  int64  \n",
      " 11  distance            1041861 non-null  float64\n",
      " 12  test_distance       1041861 non-null  float64\n",
      " 13  pick_up             1041861 non-null  object \n",
      " 14  drop_off            1041861 non-null  object \n",
      " 15  test_duration_min   1041861 non-null  float64\n",
      " 16  test_duration_sec   1041861 non-null  float64\n",
      " 17  price               1041861 non-null  float64\n",
      " 18  duration_distance   1041861 non-null  float64\n",
      "dtypes: float64(10), int64(3), object(6)\n",
      "memory usage: 151.0+ MB\n"
     ]
    }
   ],
   "source": [
    "rides.info()"
   ]
  },
  {
   "cell_type": "code",
   "execution_count": 8,
   "metadata": {},
   "outputs": [
    {
     "data": {
      "text/html": [
       "<div>\n",
       "<style scoped>\n",
       "    .dataframe tbody tr th:only-of-type {\n",
       "        vertical-align: middle;\n",
       "    }\n",
       "\n",
       "    .dataframe tbody tr th {\n",
       "        vertical-align: top;\n",
       "    }\n",
       "\n",
       "    .dataframe thead th {\n",
       "        text-align: right;\n",
       "    }\n",
       "</style>\n",
       "<table border=\"1\" class=\"dataframe\">\n",
       "  <thead>\n",
       "    <tr style=\"text-align: right;\">\n",
       "      <th></th>\n",
       "      <th>id</th>\n",
       "      <th>vendor_id</th>\n",
       "      <th>pickup_datetime</th>\n",
       "      <th>dropoff_datetime</th>\n",
       "      <th>passenger_count</th>\n",
       "      <th>pickup_longitude</th>\n",
       "      <th>pickup_latitude</th>\n",
       "      <th>dropoff_longitude</th>\n",
       "      <th>dropoff_latitude</th>\n",
       "      <th>store_and_fwd_flag</th>\n",
       "      <th>duration</th>\n",
       "      <th>distance</th>\n",
       "      <th>test_distance</th>\n",
       "      <th>pick_up</th>\n",
       "      <th>drop_off</th>\n",
       "      <th>test_duration_min</th>\n",
       "      <th>test_duration_sec</th>\n",
       "      <th>price</th>\n",
       "      <th>duration_distance</th>\n",
       "    </tr>\n",
       "  </thead>\n",
       "  <tbody>\n",
       "    <tr>\n",
       "      <th>0</th>\n",
       "      <td>id2360649</td>\n",
       "      <td>1</td>\n",
       "      <td>2016-03-16 17:49:00</td>\n",
       "      <td>2016-03-16 17:49:00</td>\n",
       "      <td>1</td>\n",
       "      <td>-73.985603</td>\n",
       "      <td>40.756092</td>\n",
       "      <td>-73.985596</td>\n",
       "      <td>40.756100</td>\n",
       "      <td>N</td>\n",
       "      <td>5</td>\n",
       "      <td>0.001057</td>\n",
       "      <td>0.001064</td>\n",
       "      <td>(40.75609207, -73.98560333)</td>\n",
       "      <td>(40.7560997, -73.9855957)</td>\n",
       "      <td>0.000266</td>\n",
       "      <td>0.015965</td>\n",
       "      <td>10.026429</td>\n",
       "      <td>15.102081</td>\n",
       "    </tr>\n",
       "    <tr>\n",
       "      <th>1</th>\n",
       "      <td>id2433071</td>\n",
       "      <td>1</td>\n",
       "      <td>2016-05-18 06:22:00</td>\n",
       "      <td>2016-05-18 06:23:00</td>\n",
       "      <td>1</td>\n",
       "      <td>-73.902016</td>\n",
       "      <td>40.763908</td>\n",
       "      <td>-73.902023</td>\n",
       "      <td>40.763916</td>\n",
       "      <td>N</td>\n",
       "      <td>81</td>\n",
       "      <td>0.001061</td>\n",
       "      <td>0.001064</td>\n",
       "      <td>(40.76390839, -73.90201569)</td>\n",
       "      <td>(40.76391602, -73.90202332)</td>\n",
       "      <td>0.000266</td>\n",
       "      <td>0.015965</td>\n",
       "      <td>10.026535</td>\n",
       "      <td>15.040909</td>\n",
       "    </tr>\n",
       "    <tr>\n",
       "      <th>2</th>\n",
       "      <td>id2678425</td>\n",
       "      <td>1</td>\n",
       "      <td>2016-04-13 21:45:00</td>\n",
       "      <td>2016-04-13 21:45:00</td>\n",
       "      <td>1</td>\n",
       "      <td>-73.983345</td>\n",
       "      <td>40.760666</td>\n",
       "      <td>-73.983337</td>\n",
       "      <td>40.760658</td>\n",
       "      <td>N</td>\n",
       "      <td>2</td>\n",
       "      <td>0.001061</td>\n",
       "      <td>0.001064</td>\n",
       "      <td>(40.76066589, -73.98334503)</td>\n",
       "      <td>(40.76065826, -73.98333740000002)</td>\n",
       "      <td>0.000266</td>\n",
       "      <td>0.015965</td>\n",
       "      <td>10.026535</td>\n",
       "      <td>15.041177</td>\n",
       "    </tr>\n",
       "    <tr>\n",
       "      <th>3</th>\n",
       "      <td>id1573649</td>\n",
       "      <td>1</td>\n",
       "      <td>2016-04-09 02:39:00</td>\n",
       "      <td>2016-04-09 02:39:00</td>\n",
       "      <td>1</td>\n",
       "      <td>-73.976166</td>\n",
       "      <td>40.719170</td>\n",
       "      <td>-73.976158</td>\n",
       "      <td>40.719177</td>\n",
       "      <td>N</td>\n",
       "      <td>6</td>\n",
       "      <td>0.001061</td>\n",
       "      <td>0.001065</td>\n",
       "      <td>(40.71916962, -73.97616577)</td>\n",
       "      <td>(40.71917725, -73.97615814)</td>\n",
       "      <td>0.000266</td>\n",
       "      <td>0.015968</td>\n",
       "      <td>10.026535</td>\n",
       "      <td>15.044599</td>\n",
       "    </tr>\n",
       "    <tr>\n",
       "      <th>4</th>\n",
       "      <td>id0335718</td>\n",
       "      <td>2</td>\n",
       "      <td>2016-01-25 23:49:00</td>\n",
       "      <td>2016-01-25 23:49:00</td>\n",
       "      <td>5</td>\n",
       "      <td>-73.794441</td>\n",
       "      <td>40.656239</td>\n",
       "      <td>-73.794449</td>\n",
       "      <td>40.656231</td>\n",
       "      <td>N</td>\n",
       "      <td>19</td>\n",
       "      <td>0.001061</td>\n",
       "      <td>0.001065</td>\n",
       "      <td>(40.65623856, -73.79444122)</td>\n",
       "      <td>(40.65623093, -73.79444885)</td>\n",
       "      <td>0.000266</td>\n",
       "      <td>0.015974</td>\n",
       "      <td>10.026535</td>\n",
       "      <td>15.049787</td>\n",
       "    </tr>\n",
       "  </tbody>\n",
       "</table>\n",
       "</div>"
      ],
      "text/plain": [
       "          id  vendor_id      pickup_datetime     dropoff_datetime  \\\n",
       "0  id2360649          1  2016-03-16 17:49:00  2016-03-16 17:49:00   \n",
       "1  id2433071          1  2016-05-18 06:22:00  2016-05-18 06:23:00   \n",
       "2  id2678425          1  2016-04-13 21:45:00  2016-04-13 21:45:00   \n",
       "3  id1573649          1  2016-04-09 02:39:00  2016-04-09 02:39:00   \n",
       "4  id0335718          2  2016-01-25 23:49:00  2016-01-25 23:49:00   \n",
       "\n",
       "   passenger_count  pickup_longitude  pickup_latitude  dropoff_longitude  \\\n",
       "0                1        -73.985603        40.756092         -73.985596   \n",
       "1                1        -73.902016        40.763908         -73.902023   \n",
       "2                1        -73.983345        40.760666         -73.983337   \n",
       "3                1        -73.976166        40.719170         -73.976158   \n",
       "4                5        -73.794441        40.656239         -73.794449   \n",
       "\n",
       "   dropoff_latitude store_and_fwd_flag  duration  distance  test_distance  \\\n",
       "0         40.756100                  N         5  0.001057       0.001064   \n",
       "1         40.763916                  N        81  0.001061       0.001064   \n",
       "2         40.760658                  N         2  0.001061       0.001064   \n",
       "3         40.719177                  N         6  0.001061       0.001065   \n",
       "4         40.656231                  N        19  0.001061       0.001065   \n",
       "\n",
       "                       pick_up                           drop_off  \\\n",
       "0  (40.75609207, -73.98560333)          (40.7560997, -73.9855957)   \n",
       "1  (40.76390839, -73.90201569)        (40.76391602, -73.90202332)   \n",
       "2  (40.76066589, -73.98334503)  (40.76065826, -73.98333740000002)   \n",
       "3  (40.71916962, -73.97616577)        (40.71917725, -73.97615814)   \n",
       "4  (40.65623856, -73.79444122)        (40.65623093, -73.79444885)   \n",
       "\n",
       "   test_duration_min  test_duration_sec      price  duration_distance  \n",
       "0           0.000266           0.015965  10.026429          15.102081  \n",
       "1           0.000266           0.015965  10.026535          15.040909  \n",
       "2           0.000266           0.015965  10.026535          15.041177  \n",
       "3           0.000266           0.015968  10.026535          15.044599  \n",
       "4           0.000266           0.015974  10.026535          15.049787  "
      ]
     },
     "execution_count": 8,
     "metadata": {},
     "output_type": "execute_result"
    }
   ],
   "source": [
    "rides.head()"
   ]
  },
  {
   "cell_type": "code",
   "execution_count": 9,
   "metadata": {},
   "outputs": [],
   "source": [
    "invalid_geo = rides.query('pickup_latitude < 40.496115 | pickup_latitude > 40.915533 | pickup_longitude < -74.255591 | pickup_longitude > -73.700009')"
   ]
  },
  {
   "cell_type": "code",
   "execution_count": 10,
   "metadata": {},
   "outputs": [
    {
     "data": {
      "text/html": [
       "<div>\n",
       "<style scoped>\n",
       "    .dataframe tbody tr th:only-of-type {\n",
       "        vertical-align: middle;\n",
       "    }\n",
       "\n",
       "    .dataframe tbody tr th {\n",
       "        vertical-align: top;\n",
       "    }\n",
       "\n",
       "    .dataframe thead th {\n",
       "        text-align: right;\n",
       "    }\n",
       "</style>\n",
       "<table border=\"1\" class=\"dataframe\">\n",
       "  <thead>\n",
       "    <tr style=\"text-align: right;\">\n",
       "      <th></th>\n",
       "      <th>id</th>\n",
       "      <th>vendor_id</th>\n",
       "      <th>pickup_datetime</th>\n",
       "      <th>dropoff_datetime</th>\n",
       "      <th>passenger_count</th>\n",
       "      <th>pickup_longitude</th>\n",
       "      <th>pickup_latitude</th>\n",
       "      <th>dropoff_longitude</th>\n",
       "      <th>dropoff_latitude</th>\n",
       "      <th>store_and_fwd_flag</th>\n",
       "      <th>duration</th>\n",
       "      <th>distance</th>\n",
       "      <th>test_distance</th>\n",
       "      <th>pick_up</th>\n",
       "      <th>drop_off</th>\n",
       "      <th>test_duration_min</th>\n",
       "      <th>test_duration_sec</th>\n",
       "      <th>price</th>\n",
       "      <th>duration_distance</th>\n",
       "    </tr>\n",
       "  </thead>\n",
       "  <tbody>\n",
       "  </tbody>\n",
       "</table>\n",
       "</div>"
      ],
      "text/plain": [
       "Empty DataFrame\n",
       "Columns: [id, vendor_id, pickup_datetime, dropoff_datetime, passenger_count, pickup_longitude, pickup_latitude, dropoff_longitude, dropoff_latitude, store_and_fwd_flag, duration, distance, test_distance, pick_up, drop_off, test_duration_min, test_duration_sec, price, duration_distance]\n",
       "Index: []"
      ]
     },
     "execution_count": 10,
     "metadata": {},
     "output_type": "execute_result"
    }
   ],
   "source": [
    "invalid_geo"
   ]
  },
  {
   "cell_type": "code",
   "execution_count": 11,
   "metadata": {},
   "outputs": [
    {
     "data": {
      "text/plain": [
       "0"
      ]
     },
     "execution_count": 11,
     "metadata": {},
     "output_type": "execute_result"
    }
   ],
   "source": [
    "#drop invalid_geo records\n",
    "records_to_drop = rides.iloc[invalid_geo.index]\n",
    "len(records_to_drop)"
   ]
  },
  {
   "cell_type": "code",
   "execution_count": 12,
   "metadata": {},
   "outputs": [],
   "source": [
    "s_rides = rides.sample(10000)"
   ]
  },
  {
   "cell_type": "code",
   "execution_count": 13,
   "metadata": {},
   "outputs": [],
   "source": [
    "s_rides.to_csv('s_rides.csv', index=False)"
   ]
  },
  {
   "cell_type": "code",
   "execution_count": null,
   "metadata": {},
   "outputs": [],
   "source": []
  },
  {
   "cell_type": "code",
   "execution_count": null,
   "metadata": {},
   "outputs": [],
   "source": []
  },
  {
   "cell_type": "code",
   "execution_count": null,
   "metadata": {},
   "outputs": [],
   "source": []
  },
  {
   "cell_type": "code",
   "execution_count": null,
   "metadata": {},
   "outputs": [],
   "source": []
  },
  {
   "cell_type": "code",
   "execution_count": null,
   "metadata": {},
   "outputs": [],
   "source": []
  },
  {
   "cell_type": "code",
   "execution_count": null,
   "metadata": {},
   "outputs": [],
   "source": []
  },
  {
   "cell_type": "code",
   "execution_count": null,
   "metadata": {},
   "outputs": [],
   "source": []
  },
  {
   "cell_type": "code",
   "execution_count": null,
   "metadata": {},
   "outputs": [],
   "source": []
  },
  {
   "cell_type": "code",
   "execution_count": null,
   "metadata": {},
   "outputs": [],
   "source": []
  },
  {
   "cell_type": "code",
   "execution_count": null,
   "metadata": {},
   "outputs": [],
   "source": []
  },
  {
   "cell_type": "code",
   "execution_count": null,
   "metadata": {},
   "outputs": [],
   "source": []
  },
  {
   "cell_type": "code",
   "execution_count": null,
   "metadata": {},
   "outputs": [],
   "source": []
  },
  {
   "cell_type": "code",
   "execution_count": null,
   "metadata": {},
   "outputs": [],
   "source": [
    "s_rides.pickup_datetime.min()"
   ]
  },
  {
   "cell_type": "code",
   "execution_count": null,
   "metadata": {},
   "outputs": [],
   "source": [
    "rides.pickup_datetime.min()"
   ]
  },
  {
   "cell_type": "code",
   "execution_count": null,
   "metadata": {},
   "outputs": [],
   "source": [
    "s_rides.pickup_datetime.max()"
   ]
  },
  {
   "cell_type": "code",
   "execution_count": null,
   "metadata": {},
   "outputs": [],
   "source": [
    "rides.pickup_datetime.max()"
   ]
  },
  {
   "cell_type": "code",
   "execution_count": null,
   "metadata": {},
   "outputs": [],
   "source": [
    "s_rides.groupby(s_rides.pickup_datetime.dt.month).sum()"
   ]
  },
  {
   "cell_type": "code",
   "execution_count": null,
   "metadata": {},
   "outputs": [],
   "source": [
    "s_rides.groupby(s_rides.pickup_datetime.dt.month).sum()"
   ]
  },
  {
   "cell_type": "code",
   "execution_count": null,
   "metadata": {},
   "outputs": [],
   "source": [
    "s_rides.groupby(s_rides.pickup_datetime.dt.month).sum()['duration'].plot(kind = 'bar');"
   ]
  },
  {
   "cell_type": "code",
   "execution_count": null,
   "metadata": {},
   "outputs": [],
   "source": [
    "s_rides.groupby(s_rides.pickup_datetime.dt.month).sum()['distance'].plot(kind = 'bar');"
   ]
  },
  {
   "cell_type": "code",
   "execution_count": null,
   "metadata": {},
   "outputs": [],
   "source": [
    "s_rides.groupby(s_rides.pickup_datetime.dt.month).sum()['passenger_count'].plot(kind = 'bar');"
   ]
  },
  {
   "cell_type": "code",
   "execution_count": null,
   "metadata": {},
   "outputs": [],
   "source": [
    "min(rides.pickup_longitude.min(), rides.dropoff_longitude.min())"
   ]
  },
  {
   "cell_type": "code",
   "execution_count": null,
   "metadata": {},
   "outputs": [],
   "source": [
    "max(rides.pickup_longitude.max(), rides.dropoff_longitude.max())"
   ]
  },
  {
   "cell_type": "code",
   "execution_count": null,
   "metadata": {},
   "outputs": [],
   "source": [
    "min(rides.pickup_latitude.min(), rides.dropoff_latitude.min())"
   ]
  },
  {
   "cell_type": "code",
   "execution_count": null,
   "metadata": {},
   "outputs": [],
   "source": [
    "max(rides.pickup_latitude.max(), rides.dropoff_latitude.max())"
   ]
  },
  {
   "cell_type": "code",
   "execution_count": null,
   "metadata": {},
   "outputs": [],
   "source": [
    "BBox = (min(rides.pickup_longitude.min(), rides.dropoff_longitude.min()), max(rides.pickup_longitude.max(), rides.dropoff_longitude.max()),\n",
    "        min(rides.pickup_latitude.min(), rides.dropoff_latitude.min()), max(rides.pickup_latitude.max(), rides.dropoff_latitude.max()))"
   ]
  },
  {
   "cell_type": "code",
   "execution_count": null,
   "metadata": {},
   "outputs": [],
   "source": [
    "BBox"
   ]
  },
  {
   "cell_type": "code",
   "execution_count": null,
   "metadata": {},
   "outputs": [],
   "source": [
    "map = plt.imread('map.png')"
   ]
  },
  {
   "cell_type": "code",
   "execution_count": null,
   "metadata": {},
   "outputs": [],
   "source": [
    "fig, ax = plt.subplots(figsize = (8,7))\n",
    "ax.scatter(rides.pickup_longitude, rides.pickup_latitude, zorder=1, alpha= 0.2, c='b', s=10)\n",
    "ax.set_title('Plotting Pickup Data on New York Map')\n",
    "ax.set_xlim(BBox[0],BBox[1])\n",
    "ax.set_ylim(BBox[2],BBox[3])\n",
    "ax.imshow(map, zorder=0, extent = BBox, aspect= 'equal');"
   ]
  },
  {
   "cell_type": "code",
   "execution_count": null,
   "metadata": {},
   "outputs": [],
   "source": [
    "fig, ax = plt.subplots(figsize = (8,7))\n",
    "ax.scatter(rides.dropoff_longitude, rides.dropoff_latitude, zorder=1, alpha= 0.2, c='b', s=10)\n",
    "ax.set_title('Plotting Dropoff Data on New York Map')\n",
    "ax.set_xlim(BBox[0],BBox[1])\n",
    "ax.set_ylim(BBox[2],BBox[3])\n",
    "ax.imshow(map, zorder=0, extent = BBox, aspect= 'equal');"
   ]
  },
  {
   "cell_type": "code",
   "execution_count": null,
   "metadata": {},
   "outputs": [],
   "source": [
    "gdf = df.to_crs(epsg=3857)"
   ]
  },
  {
   "cell_type": "code",
   "execution_count": 45,
   "metadata": {},
   "outputs": [],
   "source": [
    "#load New York city complete geometry to have as a reference\n",
    "NYC = gpd.read_file(r\"C:\\Users\\chpol\\Documents\\PM\\Data\\GIS\\NYC\\nyc.shp\") "
   ]
  },
  {
   "cell_type": "code",
   "execution_count": 46,
   "metadata": {},
   "outputs": [
    {
     "data": {
      "text/plain": [
       "<Geographic 2D CRS: EPSG:4326>\n",
       "Name: WGS 84\n",
       "Axis Info [ellipsoidal]:\n",
       "- Lat[north]: Geodetic latitude (degree)\n",
       "- Lon[east]: Geodetic longitude (degree)\n",
       "Area of Use:\n",
       "- name: World\n",
       "- bounds: (-180.0, -90.0, 180.0, 90.0)\n",
       "Datum: World Geodetic System 1984\n",
       "- Ellipsoid: WGS 84\n",
       "- Prime Meridian: Greenwich"
      ]
     },
     "execution_count": 46,
     "metadata": {},
     "output_type": "execute_result"
    }
   ],
   "source": [
    "#check Coordinate Reference System\n",
    "NYC.crs"
   ]
  },
  {
   "cell_type": "code",
   "execution_count": 47,
   "metadata": {},
   "outputs": [
    {
     "data": {
      "text/html": [
       "<div>\n",
       "<style scoped>\n",
       "    .dataframe tbody tr th:only-of-type {\n",
       "        vertical-align: middle;\n",
       "    }\n",
       "\n",
       "    .dataframe tbody tr th {\n",
       "        vertical-align: top;\n",
       "    }\n",
       "\n",
       "    .dataframe thead th {\n",
       "        text-align: right;\n",
       "    }\n",
       "</style>\n",
       "<table border=\"1\" class=\"dataframe\">\n",
       "  <thead>\n",
       "    <tr style=\"text-align: right;\">\n",
       "      <th></th>\n",
       "      <th>minx</th>\n",
       "      <th>miny</th>\n",
       "      <th>maxx</th>\n",
       "      <th>maxy</th>\n",
       "    </tr>\n",
       "  </thead>\n",
       "  <tbody>\n",
       "    <tr>\n",
       "      <th>0</th>\n",
       "      <td>-74.255591</td>\n",
       "      <td>40.496115</td>\n",
       "      <td>-73.700009</td>\n",
       "      <td>40.915533</td>\n",
       "    </tr>\n",
       "  </tbody>\n",
       "</table>\n",
       "</div>"
      ],
      "text/plain": [
       "        minx       miny       maxx       maxy\n",
       "0 -74.255591  40.496115 -73.700009  40.915533"
      ]
     },
     "execution_count": 47,
     "metadata": {},
     "output_type": "execute_result"
    }
   ],
   "source": [
    "#check New York City Boundaries\n",
    "NYC.bounds"
   ]
  },
  {
   "cell_type": "code",
   "execution_count": 48,
   "metadata": {},
   "outputs": [
    {
     "data": {
      "text/html": [
       "<div>\n",
       "<style scoped>\n",
       "    .dataframe tbody tr th:only-of-type {\n",
       "        vertical-align: middle;\n",
       "    }\n",
       "\n",
       "    .dataframe tbody tr th {\n",
       "        vertical-align: top;\n",
       "    }\n",
       "\n",
       "    .dataframe thead th {\n",
       "        text-align: right;\n",
       "    }\n",
       "</style>\n",
       "<table border=\"1\" class=\"dataframe\">\n",
       "  <thead>\n",
       "    <tr style=\"text-align: right;\">\n",
       "      <th></th>\n",
       "      <th>boro_code</th>\n",
       "      <th>boro_name</th>\n",
       "      <th>shape_area</th>\n",
       "      <th>shape_leng</th>\n",
       "      <th>geometry</th>\n",
       "    </tr>\n",
       "  </thead>\n",
       "  <tbody>\n",
       "    <tr>\n",
       "      <th>0</th>\n",
       "      <td>0.0</td>\n",
       "      <td>New_York_City</td>\n",
       "      <td>5.400502e+07</td>\n",
       "      <td>39247.227831</td>\n",
       "      <td>MULTIPOLYGON (((-73.96929 40.70709, -73.96962 ...</td>\n",
       "    </tr>\n",
       "  </tbody>\n",
       "</table>\n",
       "</div>"
      ],
      "text/plain": [
       "   boro_code      boro_name    shape_area    shape_leng  \\\n",
       "0        0.0  New_York_City  5.400502e+07  39247.227831   \n",
       "\n",
       "                                            geometry  \n",
       "0  MULTIPOLYGON (((-73.96929 40.70709, -73.96962 ...  "
      ]
     },
     "execution_count": 48,
     "metadata": {},
     "output_type": "execute_result"
    }
   ],
   "source": [
    "NYC.head()"
   ]
  },
  {
   "cell_type": "code",
   "execution_count": 8,
   "metadata": {},
   "outputs": [],
   "source": [
    "rides = pd.read_csv('taxi_rides_copy.csv')"
   ]
  },
  {
   "cell_type": "code",
   "execution_count": 9,
   "metadata": {},
   "outputs": [
    {
     "data": {
      "text/html": [
       "<div>\n",
       "<style scoped>\n",
       "    .dataframe tbody tr th:only-of-type {\n",
       "        vertical-align: middle;\n",
       "    }\n",
       "\n",
       "    .dataframe tbody tr th {\n",
       "        vertical-align: top;\n",
       "    }\n",
       "\n",
       "    .dataframe thead th {\n",
       "        text-align: right;\n",
       "    }\n",
       "</style>\n",
       "<table border=\"1\" class=\"dataframe\">\n",
       "  <thead>\n",
       "    <tr style=\"text-align: right;\">\n",
       "      <th></th>\n",
       "      <th>id</th>\n",
       "      <th>vendor_id</th>\n",
       "      <th>pickup_datetime</th>\n",
       "      <th>dropoff_datetime</th>\n",
       "      <th>passenger_count</th>\n",
       "      <th>pickup_longitude</th>\n",
       "      <th>pickup_latitude</th>\n",
       "      <th>dropoff_longitude</th>\n",
       "      <th>dropoff_latitude</th>\n",
       "      <th>store_and_fwd_flag</th>\n",
       "      <th>duration</th>\n",
       "      <th>distance</th>\n",
       "      <th>Unnamed: 12</th>\n",
       "      <th>Unnamed: 13</th>\n",
       "      <th>Unnamed: 14</th>\n",
       "    </tr>\n",
       "  </thead>\n",
       "  <tbody>\n",
       "    <tr>\n",
       "      <th>0</th>\n",
       "      <td>id3487442</td>\n",
       "      <td>2</td>\n",
       "      <td>2/29/16 18:39</td>\n",
       "      <td>2/29/16 18:42</td>\n",
       "      <td>1</td>\n",
       "      <td>-73.981819</td>\n",
       "      <td>40.768963</td>\n",
       "      <td>-73.981819</td>\n",
       "      <td>40.768963</td>\n",
       "      <td>N</td>\n",
       "      <td>227</td>\n",
       "      <td>0.0</td>\n",
       "      <td>NaN</td>\n",
       "      <td>NaN</td>\n",
       "      <td>NaN</td>\n",
       "    </tr>\n",
       "    <tr>\n",
       "      <th>1</th>\n",
       "      <td>id1145809</td>\n",
       "      <td>2</td>\n",
       "      <td>5/16/16 23:15</td>\n",
       "      <td>5/16/16 23:31</td>\n",
       "      <td>6</td>\n",
       "      <td>-73.808487</td>\n",
       "      <td>40.687336</td>\n",
       "      <td>-73.808487</td>\n",
       "      <td>40.687336</td>\n",
       "      <td>N</td>\n",
       "      <td>947</td>\n",
       "      <td>0.0</td>\n",
       "      <td>NaN</td>\n",
       "      <td>NaN</td>\n",
       "      <td>NaN</td>\n",
       "    </tr>\n",
       "    <tr>\n",
       "      <th>2</th>\n",
       "      <td>id3499387</td>\n",
       "      <td>1</td>\n",
       "      <td>1/25/16 19:45</td>\n",
       "      <td>1/25/16 19:54</td>\n",
       "      <td>1</td>\n",
       "      <td>-73.786720</td>\n",
       "      <td>40.647041</td>\n",
       "      <td>-73.786720</td>\n",
       "      <td>40.647041</td>\n",
       "      <td>N</td>\n",
       "      <td>580</td>\n",
       "      <td>0.0</td>\n",
       "      <td>NaN</td>\n",
       "      <td>NaN</td>\n",
       "      <td>NaN</td>\n",
       "    </tr>\n",
       "    <tr>\n",
       "      <th>3</th>\n",
       "      <td>id0753277</td>\n",
       "      <td>1</td>\n",
       "      <td>1/27/16 22:29</td>\n",
       "      <td>1/27/16 22:29</td>\n",
       "      <td>1</td>\n",
       "      <td>-74.209854</td>\n",
       "      <td>40.816853</td>\n",
       "      <td>-74.209854</td>\n",
       "      <td>40.816853</td>\n",
       "      <td>N</td>\n",
       "      <td>27</td>\n",
       "      <td>0.0</td>\n",
       "      <td>NaN</td>\n",
       "      <td>NaN</td>\n",
       "      <td>NaN</td>\n",
       "    </tr>\n",
       "    <tr>\n",
       "      <th>4</th>\n",
       "      <td>id2134482</td>\n",
       "      <td>1</td>\n",
       "      <td>1/22/16 16:13</td>\n",
       "      <td>1/22/16 16:13</td>\n",
       "      <td>1</td>\n",
       "      <td>-73.776314</td>\n",
       "      <td>40.645454</td>\n",
       "      <td>-73.776314</td>\n",
       "      <td>40.645454</td>\n",
       "      <td>N</td>\n",
       "      <td>19</td>\n",
       "      <td>0.0</td>\n",
       "      <td>NaN</td>\n",
       "      <td>NaN</td>\n",
       "      <td>NaN</td>\n",
       "    </tr>\n",
       "  </tbody>\n",
       "</table>\n",
       "</div>"
      ],
      "text/plain": [
       "          id  vendor_id pickup_datetime dropoff_datetime  passenger_count  \\\n",
       "0  id3487442          2   2/29/16 18:39    2/29/16 18:42                1   \n",
       "1  id1145809          2   5/16/16 23:15    5/16/16 23:31                6   \n",
       "2  id3499387          1   1/25/16 19:45    1/25/16 19:54                1   \n",
       "3  id0753277          1   1/27/16 22:29    1/27/16 22:29                1   \n",
       "4  id2134482          1   1/22/16 16:13    1/22/16 16:13                1   \n",
       "\n",
       "   pickup_longitude  pickup_latitude  dropoff_longitude  dropoff_latitude  \\\n",
       "0        -73.981819        40.768963         -73.981819         40.768963   \n",
       "1        -73.808487        40.687336         -73.808487         40.687336   \n",
       "2        -73.786720        40.647041         -73.786720         40.647041   \n",
       "3        -74.209854        40.816853         -74.209854         40.816853   \n",
       "4        -73.776314        40.645454         -73.776314         40.645454   \n",
       "\n",
       "  store_and_fwd_flag  duration  distance  Unnamed: 12  Unnamed: 13  \\\n",
       "0                  N       227       0.0          NaN          NaN   \n",
       "1                  N       947       0.0          NaN          NaN   \n",
       "2                  N       580       0.0          NaN          NaN   \n",
       "3                  N        27       0.0          NaN          NaN   \n",
       "4                  N        19       0.0          NaN          NaN   \n",
       "\n",
       "   Unnamed: 14  \n",
       "0          NaN  \n",
       "1          NaN  \n",
       "2          NaN  \n",
       "3          NaN  \n",
       "4          NaN  "
      ]
     },
     "execution_count": 9,
     "metadata": {},
     "output_type": "execute_result"
    }
   ],
   "source": [
    "rides.head()"
   ]
  },
  {
   "cell_type": "code",
   "execution_count": 12,
   "metadata": {},
   "outputs": [],
   "source": [
    "invalid_geo = rides.query('pickup_latitude < 40.496115 | pickup_latitude > 40.915533 | pickup_longitude < -74.255591 | pickup_longitude > -73.700009')"
   ]
  },
  {
   "cell_type": "code",
   "execution_count": 26,
   "metadata": {},
   "outputs": [
    {
     "data": {
      "text/plain": [
       "215"
      ]
     },
     "execution_count": 26,
     "metadata": {},
     "output_type": "execute_result"
    }
   ],
   "source": [
    "#drop invalid_geo records\n",
    "records_to_drop = rides.iloc[invalid_geo.index]\n",
    "len(records_to_drop)"
   ]
  },
  {
   "cell_type": "code",
   "execution_count": 27,
   "metadata": {},
   "outputs": [],
   "source": [
    "rides.drop(records_to_drop.index, axis = 0, inplace = True)"
   ]
  },
  {
   "cell_type": "code",
   "execution_count": 29,
   "metadata": {},
   "outputs": [],
   "source": [
    "rides.to_csv('rides.csv', index = False)"
   ]
  },
  {
   "cell_type": "code",
   "execution_count": 33,
   "metadata": {},
   "outputs": [
    {
     "data": {
      "text/plain": [
       "(1048253, 15)"
      ]
     },
     "execution_count": 33,
     "metadata": {},
     "output_type": "execute_result"
    }
   ],
   "source": [
    "rides.shape"
   ]
  },
  {
   "cell_type": "code",
   "execution_count": 13,
   "metadata": {},
   "outputs": [
    {
     "data": {
      "text/plain": [
       "True"
      ]
     },
     "execution_count": 13,
     "metadata": {},
     "output_type": "execute_result"
    }
   ],
   "source": [
    "rides_point.crs == nyc_poly.crs"
   ]
  },
  {
   "cell_type": "code",
   "execution_count": 15,
   "metadata": {},
   "outputs": [
    {
     "data": {
      "text/plain": [
       "(215, 15)"
      ]
     },
     "execution_count": 15,
     "metadata": {},
     "output_type": "execute_result"
    }
   ],
   "source": [
    "invalid_geo.shape"
   ]
  },
  {
   "cell_type": "code",
   "execution_count": 25,
   "metadata": {},
   "outputs": [],
   "source": [
    "invalid_geo.to_csv('invalid_geo.csv', index = False)"
   ]
  },
  {
   "cell_type": "code",
   "execution_count": 20,
   "metadata": {},
   "outputs": [],
   "source": [
    "invalid_deodataframe = gpd.GeoDataFrame(invalid_geo, crs=\"EPSG:4326\", geometry=gpd.points_from_xy(invalid_geo.pickup_longitude, invalid_geo.pickup_latitude)) #create a GeoDataFrame"
   ]
  },
  {
   "cell_type": "code",
   "execution_count": 24,
   "metadata": {},
   "outputs": [
    {
     "data": {
      "image/svg+xml": [
       "<svg xmlns=\"http://www.w3.org/2000/svg\" xmlns:xlink=\"http://www.w3.org/1999/xlink\" width=\"100.0\" height=\"100.0\" viewBox=\"-74.00873448983177 40.61126035106534 0.03720934426054612 0.034680016683402926\" preserveAspectRatio=\"xMinYMin meet\"><g transform=\"matrix(1,0,0,-1,0,81.25720071881409)\"><path fill-rule=\"evenodd\" fill=\"#66cc99\" stroke=\"#555555\" stroke-width=\"0.0007441868852109223\" opacity=\"0.6\" d=\"M -73.97604935657381,40.631275905646774 L -73.97716511994669,40.63074665412933 L -73.97699848928193,40.629871496125375 L -73.9768496430902,40.6290885814784 L -73.97669604371914,40.628354564208756 L -73.97657775689153,40.62757318681896 L -73.9765146210018,40.627294490493874 L -73.97644970441577,40.627008255472994 L -73.97623453682755,40.625976350730234 L -73.97726150032737,40.6258527728136 L -73.97719665645002,40.62510197855896 L -73.97710959292857,40.624948259691514 L -73.97694382374165,40.624052750014684 L -73.9768346520651,40.62348104194568 L -73.97675209645574,40.623013312325725 L -73.97656583927008,40.6219949031937 L -73.97695070814679,40.62163000717454 L -73.97705352864567,40.6215325218076 L -73.97539380523678,40.62076998723733 L -73.97682433557303,40.61867580015917 L -73.97752301889588,40.61767654076734 L -73.97785009338085,40.6172876067946 L -73.97562954146068,40.61594539066695 L -73.97537335532121,40.6157547223824 L -73.97544276701358,40.61611409035504 L -73.97548096980243,40.616311925144196 L -73.97444328442452,40.6164216434621 L -73.97335879350746,40.6165417152966 L -73.97290326943272,40.6141529683845 L -73.97399319461375,40.61402989424251 L -73.97517176991693,40.614724185881045 L -73.97497264664409,40.6136681101718 L -73.97489295756654,40.61318636841404 L -73.97477657974535,40.61263847492684 L -73.97520829413772,40.6128852582153 L -73.9774081645899,40.614218112990294 L -73.97963821772845,40.61556454722805 L -73.98003930358351,40.61580692966757 L -73.9808791278371,40.616314434788244 L -73.98186818243128,40.61691212660382 L -73.9840679176659,40.618240739302685 L -73.98627524709667,40.619566616589694 L -73.98569357824182,40.620131514447586 L -73.9878509553418,40.62143503244062 L -73.99009356051286,40.62278895334304 L -73.99254973616581,40.62427426877921 L -73.99398197149371,40.62514139905055 L -73.99432497413301,40.62534290879742 L -73.99489280561376,40.6254617941917 L -73.99473485679263,40.62561474060342 L -73.99464972974172,40.62569717922155 L -73.99507814869848,40.6258067378371 L -73.99678847531307,40.62682605141273 L -73.99687778353756,40.626530782562355 L -73.99701633648009,40.626061615450624 L -73.9972406703973,40.62528868702803 L -73.99811614328407,40.62581570660958 L -74.00031369476771,40.62714458259374 L -74.00251454806298,40.62847420956256 L -74.00222793396246,40.62875116964375 L -74.00193011441125,40.62903276789135 L -74.00306154030783,40.629715175404556 L -74.00368597245085,40.6300917810278 L -74.00413727968571,40.63036396583654 L -74.00633870652992,40.63169362668358 L -74.00702302486354,40.63210999547638 L -74.00680677851517,40.632250391235324 L -74.0066191489384,40.632375458589486 L -74.00630615538653,40.632584088964876 L -74.00556490326193,40.63308317691681 L -74.00735636597027,40.634163627239026 L -74.00675122718057,40.634744787032226 L -74.00641784617844,40.63506485045552 L -74.00616926805155,40.63530350191607 L -74.00558613003881,40.63586622903329 L -74.00500346527619,40.63642523568013 L -74.00442048314353,40.636984986361725 L -74.00411104019123,40.637282961505036 L -74.00383793090822,40.637545931867386 L -74.00325273129657,40.638104262022885 L -74.00267214342665,40.63866701097257 L -74.00236943480249,40.63895767781394 L -74.0020907543513,40.6392252543082 L -74.00150771254626,40.6397849620733 L -74.00092541773434,40.64034590202875 L -74.00066078114669,40.640599309703894 L -74.00034122066634,40.64090531617318 L -73.99975690844894,40.64146714994333 L -73.9991756471891,40.642025442029095 L -73.99697357409411,40.64069410459458 L -73.99551033696265,40.63980966763261 L -73.99479539473393,40.640288487886956 L -73.99433124126965,40.64060028845549 L -73.99407692009133,40.64077040176035 L -73.9933625360505,40.641247798977965 L -73.9926445605762,40.641728290946446 L -73.99192812375547,40.64220490458869 L -73.99121277380051,40.64268589050532 L -73.99049634082614,40.64316444118841 L -73.98977890274068,40.643644887233535 L -73.98905872393608,40.64411924103919 L -73.98834986671028,40.64456224388724 L -73.98749940592022,40.64404551035482 L -73.98673080569073,40.64357399370719 L -73.985896444915,40.64306759533013 L -73.98509519639006,40.64257305584113 L -73.984587194825,40.6422620045726 L -73.98430293143333,40.64208456309331 L -73.98331628452111,40.6414786828331 L -73.98299419241442,40.6413249968491 L -73.98244454219795,40.64153862556193 L -73.98204321765255,40.6417075820055 L -73.98123240501364,40.6420449138903 L -73.98042057821881,40.64238522690571 L -73.98007428494853,40.64053969984795 L -73.98000693002487,40.6402088377546 L -73.97990983138484,40.63968635791175 L -73.97987360298706,40.639518205950424 L -73.9796770495655,40.63846479981803 L -73.97955441162159,40.63781925969067 L -73.97947592089827,40.63743136398443 L -73.97938644718404,40.63693216348757 L -73.97928591736762,40.636414194191275 L -73.9791118873775,40.63544038643938 L -73.97802158944135,40.63555270290523 L -73.9768886114649,40.635674862028225 L -73.97663656021153,40.63435382127075 L -73.97655064148618,40.633903509144076 L -73.97643342179832,40.63328912259067 L -73.97604935657381,40.631275905646774 z\" /></g></svg>"
      ],
      "text/plain": [
       "<shapely.geometry.polygon.Polygon at 0x22bccd7d0d0>"
      ]
     },
     "execution_count": 24,
     "metadata": {},
     "output_type": "execute_result"
    }
   ],
   "source": [
    "nyc_poly.geometry[0]"
   ]
  },
  {
   "cell_type": "code",
   "execution_count": 16,
   "metadata": {},
   "outputs": [
    {
     "data": {
      "text/html": [
       "<div>\n",
       "<style scoped>\n",
       "    .dataframe tbody tr th:only-of-type {\n",
       "        vertical-align: middle;\n",
       "    }\n",
       "\n",
       "    .dataframe tbody tr th {\n",
       "        vertical-align: top;\n",
       "    }\n",
       "\n",
       "    .dataframe thead th {\n",
       "        text-align: right;\n",
       "    }\n",
       "</style>\n",
       "<table border=\"1\" class=\"dataframe\">\n",
       "  <thead>\n",
       "    <tr style=\"text-align: right;\">\n",
       "      <th></th>\n",
       "      <th>boro_code</th>\n",
       "      <th>boro_name</th>\n",
       "      <th>county_fip</th>\n",
       "      <th>ntacode</th>\n",
       "      <th>ntaname</th>\n",
       "      <th>shape_area</th>\n",
       "      <th>shape_leng</th>\n",
       "      <th>geometry</th>\n",
       "    </tr>\n",
       "  </thead>\n",
       "  <tbody>\n",
       "    <tr>\n",
       "      <th>0</th>\n",
       "      <td>3.0</td>\n",
       "      <td>Brooklyn</td>\n",
       "      <td>047</td>\n",
       "      <td>BK88</td>\n",
       "      <td>Borough Park</td>\n",
       "      <td>5.400502e+07</td>\n",
       "      <td>39247.227831</td>\n",
       "      <td>POLYGON ((-73.97605 40.63128, -73.97717 40.630...</td>\n",
       "    </tr>\n",
       "  </tbody>\n",
       "</table>\n",
       "</div>"
      ],
      "text/plain": [
       "   boro_code boro_name county_fip ntacode       ntaname    shape_area  \\\n",
       "0        3.0  Brooklyn        047    BK88  Borough Park  5.400502e+07   \n",
       "\n",
       "     shape_leng                                           geometry  \n",
       "0  39247.227831  POLYGON ((-73.97605 40.63128, -73.97717 40.630...  "
      ]
     },
     "execution_count": 16,
     "metadata": {},
     "output_type": "execute_result"
    }
   ],
   "source": [
    "nyc_poly.head(1)"
   ]
  },
  {
   "cell_type": "code",
   "execution_count": 26,
   "metadata": {},
   "outputs": [
    {
     "data": {
      "text/plain": [
       "boro_code                                                     3\n",
       "boro_name                                              Brooklyn\n",
       "county_fip                                                  047\n",
       "ntacode                                                    BK88\n",
       "ntaname                                            Borough Park\n",
       "shape_area                                           5.4005e+07\n",
       "shape_leng                                              39247.2\n",
       "geometry      POLYGON ((-73.97604935657381 40.63127590564677...\n",
       "Name: 0, dtype: object"
      ]
     },
     "execution_count": 26,
     "metadata": {},
     "output_type": "execute_result"
    }
   ],
   "source": [
    "nyc_poly.iloc[0,:]"
   ]
  },
  {
   "cell_type": "code",
   "execution_count": 28,
   "metadata": {},
   "outputs": [
    {
     "data": {
      "text/plain": [
       "19"
      ]
     },
     "execution_count": 28,
     "metadata": {},
     "output_type": "execute_result"
    }
   ],
   "source": [
    "rides_point.within(nyc_poly.geometry[0]).sum()"
   ]
  },
  {
   "cell_type": "code",
   "execution_count": 37,
   "metadata": {},
   "outputs": [
    {
     "data": {
      "text/plain": [
       "195"
      ]
     },
     "execution_count": 37,
     "metadata": {},
     "output_type": "execute_result"
    }
   ],
   "source": [
    "len(nyc_poly.geometry)"
   ]
  },
  {
   "cell_type": "code",
   "execution_count": 35,
   "metadata": {},
   "outputs": [
    {
     "data": {
      "text/plain": [
       "0      POLYGON ((-73.97605 40.63128, -73.97717 40.630...\n",
       "1      POLYGON ((-73.80379 40.77561, -73.80099 40.775...\n",
       "2      POLYGON ((-73.86110 40.76366, -73.85993 40.762...\n",
       "3      POLYGON ((-73.94826 40.63861, -73.94923 40.638...\n",
       "4      POLYGON ((-73.75726 40.71814, -73.75589 40.716...\n",
       "                             ...                        \n",
       "190    MULTIPOLYGON (((-73.89681 40.79581, -73.89694 ...\n",
       "191    POLYGON ((-74.00702 40.63211, -74.00634 40.631...\n",
       "192    POLYGON ((-74.03267 40.64372, -74.03261 40.643...\n",
       "193    POLYGON ((-74.15379 40.61226, -74.15372 40.612...\n",
       "194    POLYGON ((-74.09777 40.61062, -74.09730 40.610...\n",
       "Name: geometry, Length: 195, dtype: geometry"
      ]
     },
     "execution_count": 35,
     "metadata": {},
     "output_type": "execute_result"
    }
   ],
   "source": [
    "nyc_poly.geometry"
   ]
  },
  {
   "cell_type": "code",
   "execution_count": 45,
   "metadata": {},
   "outputs": [
    {
     "data": {
      "text/plain": [
       "boro_code                                                     2\n",
       "boro_name                                                 Bronx\n",
       "county_fip                                                  005\n",
       "ntacode                                                    BX39\n",
       "ntaname                                  Mott Haven-Port Morris\n",
       "shape_area                                          4.18986e+07\n",
       "shape_leng                                              35603.7\n",
       "geometry      (POLYGON ((-73.89680883223774 40.7958084451597...\n",
       "taxi_rides                                                    0\n",
       "Name: 190, dtype: object"
      ]
     },
     "execution_count": 45,
     "metadata": {},
     "output_type": "execute_result"
    }
   ],
   "source": [
    "nyc_poly.iloc[190,:]"
   ]
  },
  {
   "cell_type": "code",
   "execution_count": 47,
   "metadata": {},
   "outputs": [
    {
     "data": {
      "text/html": [
       "<div>\n",
       "<style scoped>\n",
       "    .dataframe tbody tr th:only-of-type {\n",
       "        vertical-align: middle;\n",
       "    }\n",
       "\n",
       "    .dataframe tbody tr th {\n",
       "        vertical-align: top;\n",
       "    }\n",
       "\n",
       "    .dataframe thead th {\n",
       "        text-align: right;\n",
       "    }\n",
       "</style>\n",
       "<table border=\"1\" class=\"dataframe\">\n",
       "  <thead>\n",
       "    <tr style=\"text-align: right;\">\n",
       "      <th></th>\n",
       "      <th>boro_code</th>\n",
       "      <th>boro_name</th>\n",
       "      <th>county_fip</th>\n",
       "      <th>ntacode</th>\n",
       "      <th>ntaname</th>\n",
       "      <th>shape_area</th>\n",
       "      <th>shape_leng</th>\n",
       "      <th>geometry</th>\n",
       "    </tr>\n",
       "  </thead>\n",
       "  <tbody>\n",
       "    <tr>\n",
       "      <th>0</th>\n",
       "      <td>4.0</td>\n",
       "      <td>Brooklyn</td>\n",
       "      <td>047</td>\n",
       "      <td>BK88</td>\n",
       "      <td>Borough Park</td>\n",
       "      <td>5.400502e+07</td>\n",
       "      <td>39247.227831</td>\n",
       "      <td>MULTIPOLYGON (((-73.96929 40.70709, -73.96962 ...</td>\n",
       "    </tr>\n",
       "  </tbody>\n",
       "</table>\n",
       "</div>"
      ],
      "text/plain": [
       "   boro_code boro_name county_fip ntacode       ntaname    shape_area  \\\n",
       "0        4.0  Brooklyn        047    BK88  Borough Park  5.400502e+07   \n",
       "\n",
       "     shape_leng                                           geometry  \n",
       "0  39247.227831  MULTIPOLYGON (((-73.96929 40.70709, -73.96962 ...  "
      ]
     },
     "execution_count": 47,
     "metadata": {},
     "output_type": "execute_result"
    }
   ],
   "source": [
    "NYC"
   ]
  },
  {
   "cell_type": "code",
   "execution_count": null,
   "metadata": {},
   "outputs": [],
   "source": []
  }
 ],
 "metadata": {
  "kernelspec": {
   "display_name": "Python 3",
   "language": "python",
   "name": "python3"
  },
  "language_info": {
   "codemirror_mode": {
    "name": "ipython",
    "version": 3
   },
   "file_extension": ".py",
   "mimetype": "text/x-python",
   "name": "python",
   "nbconvert_exporter": "python",
   "pygments_lexer": "ipython3",
   "version": "3.8.3"
  }
 },
 "nbformat": 4,
 "nbformat_minor": 4
}
